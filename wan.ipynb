{
 "cells": [
  {
   "cell_type": "markdown",
   "metadata": {},
   "source": [
    "# WAN 2.1 I2V - Complete Installation"
   ]
  },
  {
   "cell_type": "code",
   "execution_count": null,
   "metadata": {
    "vscode": {
     "languageId": "plaintext"
    }
   },
   "outputs": [],
   "source": [
    "from pathlib import Path\n",
    "\n",
    "OPTIONS = {}\n",
    "USE_GOOGLE_DRIVE = True\n",
    "UPDATE_COMFY_UI = True\n",
    "USE_COMFYUI_MANAGER = True\n",
    "INSTALL_CUSTOM_NODES_DEPENDENCIES = True\n",
    "OPTIONS['USE_GOOGLE_DRIVE'] = USE_GOOGLE_DRIVE\n",
    "OPTIONS['UPDATE_COMFY_UI'] = UPDATE_COMFY_UI\n",
    "OPTIONS['USE_COMFYUI_MANAGER'] = USE_COMFYUI_MANAGER\n",
    "OPTIONS['INSTALL_CUSTOM_NODES_DEPENDENCIES'] = INSTALL_CUSTOM_NODES_DEPENDENCIES\n",
    "\n",
    "current_dir = !pwd\n",
    "WORKSPACE = \"/content/ComfyUI\"\n",
    "\n",
    "if OPTIONS['USE_GOOGLE_DRIVE']:\n",
    "    !echo \"Mounting Google Drive...\"\n",
    "    %cd /\n",
    "    from google.colab import drive\n",
    "    drive.mount('/content/drive')\n",
    "    WORKSPACE = \"/content/drive/MyDrive/ComfyUI\"\n",
    "    %cd /content/drive/MyDrive\n",
    "\n",
    "![ ! -d $WORKSPACE ] && echo -= Initial setup ComfyUI =- && git clone https://github.com/comfyanonymous/ComfyUI\n",
    "%cd $WORKSPACE\n",
    "\n",
    "if OPTIONS['UPDATE_COMFY_UI']:\n",
    "  !echo -= Updating ComfyUI =-\n",
    "  ![ -f \".ci/nightly/update_windows/update_comfyui_and_python_dependencies.bat\" ] && chmod 755 .ci/nightly/update_windows/update_comfyui_and_python_dependencies.bat\n",
    "  ![ -f \".ci/nightly/windows_base_files/run_nvidia_gpu.bat\" ] && chmod 755 .ci/nightly/windows_base_files/run_nvidia_gpu.bat\n",
    "  !git pull\n",
    "\n",
    "!echo -= Install dependencies =-\n",
    "!pip3 install accelerate\n",
    "!pip3 install einops transformers>=4.28.1 safetensors>=0.4.2 aiohttp pyyaml Pillow scipy tqdm psutil tokenizers>=0.13.3\n",
    "!pip3 install torch torchvision torchaudio --index-url https://download.pytorch.org/whl/cu121\n",
    "!pip3 install torchsde\n",
    "!pip3 install kornia>=0.7.1 spandrel soundfile sentencepiece\n",
    "!pip3 install av\n",
    "\n",
    "# Install Video Helper Suite\n",
    "%cd $WORKSPACE/custom_nodes\n",
    "![ ! -d comfyui-videohelpersuite ] && git clone https://github.com/Kosinkadink/ComfyUI-VideoHelperSuite.git comfyui-videohelpersuite\n",
    "%cd $WORKSPACE\n",
    "\n",
    "# Download models\n",
    "!wget -c https://huggingface.co/Comfy-Org/Wan_2.1_ComfyUI_repackaged/resolve/main/split_files/vae/wan_2.1_vae.safetensors -P $WORKSPACE/models/vae/\n",
    "!wget -c https://huggingface.co/Comfy-Org/Wan_2.1_ComfyUI_repackaged/resolve/main/split_files/clip_vision/clip_vision_h.safetensors -P $WORKSPACE/models/clip_vision\n",
    "!wget -c https://huggingface.co/Kijai/WanVideo_comfy/resolve/main/Wan2_1-I2V-14B-480P_fp8_e4m3fn.safetensors -P $WORKSPACE/models/diffusion_models\n",
    "!wget -c https://huggingface.co/Kijai/WanVideo_comfy/resolve/main/Wan2_1-I2V-14B-720P_fp8_e4m3fn.safetensors -P $WORKSPACE/models/diffusion_models\n",
    "\n",
    "# Get workflows\n",
    "!mkdir -p $WORKSPACE/workflows/\n",
    "!wget -c https://comfyanonymous.github.io/ComfyUI_examples/wan/image_to_video_wan_example.json -P $WORKSPACE/workflows/"
   ]
  },
  {
   "cell_type": "markdown",
   "metadata": {},
   "source": [
    "# WAN 2.1 I2V - Quick Start (ALREADY INSTALLED)"
   ]
  },
  {
   "cell_type": "code",
   "execution_count": null,
   "metadata": {
    "vscode": {
     "languageId": "plaintext"
    }
   },
   "outputs": [],
   "source": [
    "# Just mount drive and go to ComfyUI folder\n",
    "from google.colab import drive\n",
    "drive.mount('/content/drive')\n",
    "%cd /content/drive/MyDrive/ComfyUI\n",
    "!pwd"
   ]
  },
  {
   "cell_type": "code",
   "execution_count": null,
   "metadata": {
    "vscode": {
     "languageId": "plaintext"
    }
   },
   "outputs": [],
   "source": [
    "# Install torchsde before starting ComfyUI\n",
    "!pip install torchsde"
   ]
  },
  {
   "cell_type": "code",
   "execution_count": null,
   "metadata": {
    "vscode": {
     "languageId": "plaintext"
    }
   },
   "outputs": [],
   "source": [
    "# Start ComfyUI\n",
    "!wget -P ~ https://github.com/cloudflare/cloudflared/releases/latest/download/cloudflared-linux-amd64.deb\n",
    "!dpkg -i ~/cloudflared-linux-amd64.deb\n",
    "import subprocess\n",
    "import threading\n",
    "import time\n",
    "import socket\n",
    "import urllib.request\n",
    "def iframe_thread(port):\n",
    "  while True:\n",
    "      time.sleep(0.5)\n",
    "      sock = socket.socket(socket.AF_INET, socket.SOCK_STREAM)\n",
    "      result = sock.connect_ex(('127.0.0.1', port))\n",
    "      if result == 0:\n",
    "        break\n",
    "      sock.close()\n",
    "  print(\"\\nComfyUI finished loading, trying to launch cloudflared (if it gets stuck here cloudflared is having issues)\\n\")\n",
    "  p = subprocess.Popen([\"cloudflared\", \"tunnel\", \"--url\", \"http://127.0.0.1:{}\".format(port)], stdout=subprocess.PIPE, stderr=subprocess.PIPE)\n",
    "  for line in p.stderr:\n",
    "    l = line.decode()\n",
    "    if \"trycloudflare.com \" in l:\n",
    "      print(\"This is the URL to access ComfyUI:\", l[l.find(\"http\"):], end='')\n",
    "    #print(l, end='')\n",
    "threading.Thread(target=iframe_thread, daemon=True, args=(8188,)).start()\n",
    "!python /content/ComfyUI/main.py --dont-print-server"
   ]
  }
 ],
 "metadata": {
  "language_info": {
   "name": "python"
  }
 },
 "nbformat": 4,
 "nbformat_minor": 2
}
